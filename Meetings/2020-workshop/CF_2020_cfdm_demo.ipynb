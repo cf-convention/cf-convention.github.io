version https://git-lfs.github.com/spec/v1
oid sha256:b56472dda14067025669ac7c109cec12040065b0d5ada71b9805f7638b16c50d
size 40941
