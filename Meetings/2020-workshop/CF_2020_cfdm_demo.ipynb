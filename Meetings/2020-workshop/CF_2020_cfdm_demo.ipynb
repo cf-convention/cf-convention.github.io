{
 "cells": [
  {
   "cell_type": "markdown",
   "metadata": {},
   "source": [
    "# `cfdm` - a Python reference implementation of the CF data model\n",
    "-----"
   ]
  },
  {
   "cell_type": "markdown",
   "metadata": {},
   "source": [
    "### https://ncas-cms.github.io/cfdm\n",
    "\n",
    "### The `cfdm` package implements the CF data model for its internal data structures and so is able to process any CF-compliant dataset."
   ]
  },
  {
   "cell_type": "markdown",
   "metadata": {},
   "source": [
    "----\n",
    "# The CF data model"
   ]
  },
  {
   "cell_type": "markdown",
   "metadata": {},
   "source": [
    "<img src=\"field.png\" style=\"height:600px\"/>"
   ]
  },
  {
   "cell_type": "markdown",
   "metadata": {},
   "source": [
    "-----\n",
    "### It is not strict about CF-compliance, however, so that partially conformant datasets may be created in memory, ingested from existing datasets or written to new datasets.\n",
    "\n",
    "### It is *not* an all-purpose analysis package - the main functionality is only that required to\n",
    "* ### read field constructs from datasets\n",
    "* ### write field constructs to datasets\n",
    "* ### create, modify (including subspacing) and inspect field constructs in memory."
   ]
  },
  {
   "cell_type": "markdown",
   "metadata": {},
   "source": [
    "-----\n",
    "# Import the package"
   ]
  },
  {
   "cell_type": "code",
   "execution_count": 1,
   "metadata": {},
   "outputs": [],
   "source": [
    "import cfdm"
   ]
  },
  {
   "cell_type": "markdown",
   "metadata": {},
   "source": [
    "----\n",
    "# A simple field construct"
   ]
  },
  {
   "cell_type": "code",
   "execution_count": 2,
   "metadata": {},
   "outputs": [
    {
     "name": "stdout",
     "output_type": "stream",
     "text": [
      "netcdf file0 {\r\n",
      "dimensions:\r\n",
      "\tlat = 5 ;\r\n",
      "\tbounds2 = 2 ;\r\n",
      "\tlon = 8 ;\r\n",
      "variables:\r\n",
      "\tdouble lat_bnds(lat, bounds2) ;\r\n",
      "\tdouble lat(lat) ;\r\n",
      "\t\tlat:units = \"degrees_north\" ;\r\n",
      "\t\tlat:standard_name = \"latitude\" ;\r\n",
      "\t\tlat:bounds = \"lat_bnds\" ;\r\n",
      "\tdouble lon_bnds(lon, bounds2) ;\r\n",
      "\tdouble lon(lon) ;\r\n",
      "\t\tlon:units = \"degrees_east\" ;\r\n",
      "\t\tlon:standard_name = \"longitude\" ;\r\n",
      "\t\tlon:bounds = \"lon_bnds\" ;\r\n",
      "\tdouble time ;\r\n",
      "\t\ttime:units = \"days since 2018-12-01\" ;\r\n",
      "\t\ttime:standard_name = \"time\" ;\r\n",
      "\tdouble q(lat, lon) ;\r\n",
      "\t\tq:project = \"research\" ;\r\n",
      "\t\tq:standard_name = \"specific_humidity\" ;\r\n",
      "\t\tq:units = \"1\" ;\r\n",
      "\t\tq:coordinates = \"time\" ;\r\n",
      "\t\tq:cell_methods = \"area: mean\" ;\r\n",
      "\r\n",
      "// global attributes:\r\n",
      "\t\t:Conventions = \"CF-1.8\" ;\r\n",
      "}\r\n"
     ]
    }
   ],
   "source": [
    "!ncdump -h file0.nc"
   ]
  },
  {
   "cell_type": "markdown",
   "metadata": {},
   "source": [
    "### Read the dataset"
   ]
  },
  {
   "cell_type": "code",
   "execution_count": 3,
   "metadata": {},
   "outputs": [],
   "source": [
    "f = cfdm.read('file0.nc')[0]"
   ]
  },
  {
   "cell_type": "markdown",
   "metadata": {},
   "source": [
    "### Have a summary look at the field construct"
   ]
  },
  {
   "cell_type": "code",
   "execution_count": 4,
   "metadata": {},
   "outputs": [
    {
     "name": "stdout",
     "output_type": "stream",
     "text": [
      "Field: specific_humidity (ncvar%q)\n",
      "----------------------------------\n",
      "Data            : specific_humidity(latitude(5), longitude(8)) 1\n",
      "Cell methods    : area: mean\n",
      "Dimension coords: latitude(5) = [-75.0, ..., 75.0] degrees_north\n",
      "                : longitude(8) = [22.5, ..., 337.5] degrees_east\n",
      "                : time(1) = [2019-01-01 00:00:00]\n"
     ]
    }
   ],
   "source": [
    "print(f)"
   ]
  },
  {
   "cell_type": "markdown",
   "metadata": {},
   "source": [
    "### Have a look at the field construct's data"
   ]
  },
  {
   "cell_type": "code",
   "execution_count": 5,
   "metadata": {},
   "outputs": [
    {
     "name": "stdout",
     "output_type": "stream",
     "text": [
      "[[0.007 0.034 0.003 0.014 0.018 0.037 0.024 0.029]\n",
      " [0.023 0.036 0.045 0.062 0.046 0.073 0.006 0.066]\n",
      " [0.11  0.131 0.124 0.146 0.087 0.103 0.057 0.011]\n",
      " [0.029 0.059 0.039 0.07  0.058 0.072 0.009 0.017]\n",
      " [0.006 0.036 0.019 0.035 0.018 0.037 0.034 0.013]]\n"
     ]
    }
   ],
   "source": [
    "print(f.data.array)"
   ]
  },
  {
   "cell_type": "markdown",
   "metadata": {},
   "source": [
    "### Have a comprehensive look "
   ]
  },
  {
   "cell_type": "code",
   "execution_count": 6,
   "metadata": {},
   "outputs": [
    {
     "name": "stdout",
     "output_type": "stream",
     "text": [
      "----------------------------------\n",
      "Field: specific_humidity (ncvar%q)\n",
      "----------------------------------\n",
      "Conventions = 'CF-1.8'\n",
      "project = 'research'\n",
      "standard_name = 'specific_humidity'\n",
      "units = '1'\n",
      "\n",
      "Data(latitude(5), longitude(8)) = [[0.007, ..., 0.013]] 1\n",
      "\n",
      "Cell Method: area: mean\n",
      "\n",
      "Domain Axis: latitude(5)\n",
      "Domain Axis: longitude(8)\n",
      "Domain Axis: time(1)\n",
      "\n",
      "Dimension coordinate: latitude\n",
      "    standard_name = 'latitude'\n",
      "    units = 'degrees_north'\n",
      "    Data(latitude(5)) = [-75.0, ..., 75.0] degrees_north\n",
      "    Bounds:Data(latitude(5), 2) = [[-90.0, ..., 90.0]] degrees_north\n",
      "\n",
      "Dimension coordinate: longitude\n",
      "    standard_name = 'longitude'\n",
      "    units = 'degrees_east'\n",
      "    Data(longitude(8)) = [22.5, ..., 337.5] degrees_east\n",
      "    Bounds:Data(longitude(8), 2) = [[0.0, ..., 360.0]] degrees_east\n",
      "\n",
      "Dimension coordinate: time\n",
      "    standard_name = 'time'\n",
      "    units = 'days since 2018-12-01'\n",
      "    Data(time(1)) = [2019-01-01 00:00:00]\n",
      "\n"
     ]
    }
   ],
   "source": [
    "f.dump()"
   ]
  },
  {
   "cell_type": "markdown",
   "metadata": {},
   "source": [
    "----\n",
    "# A field construct with every type of metadata construct"
   ]
  },
  {
   "cell_type": "code",
   "execution_count": 7,
   "metadata": {},
   "outputs": [
    {
     "name": "stdout",
     "output_type": "stream",
     "text": [
      "netcdf file1 {\r\n",
      "dimensions:\r\n",
      "\tatmosphere_hybrid_height_coordinate = 1 ;\r\n",
      "\tbounds2 = 2 ;\r\n",
      "\ty = 10 ;\r\n",
      "\tx = 9 ;\r\n",
      "variables:\r\n",
      "\tdouble atmosphere_hybrid_height_coordinate_bounds(atmosphere_hybrid_height_coordinate, bounds2) ;\r\n",
      "\t\tatmosphere_hybrid_height_coordinate_bounds:formula_terms = \"a: a_bounds b: b_bounds orog: surface_altitude\" ;\r\n",
      "\tdouble atmosphere_hybrid_height_coordinate(atmosphere_hybrid_height_coordinate) ;\r\n",
      "\t\tatmosphere_hybrid_height_coordinate:computed_standard_name = \"altitude\" ;\r\n",
      "\t\tatmosphere_hybrid_height_coordinate:standard_name = \"atmosphere_hybrid_height_coordinate\" ;\r\n",
      "\t\tatmosphere_hybrid_height_coordinate:bounds = \"atmosphere_hybrid_height_coordinate_bounds\" ;\r\n",
      "\t\tatmosphere_hybrid_height_coordinate:formula_terms = \"a: a b: b orog: surface_altitude\" ;\r\n",
      "\tdouble y_bnds(y, bounds2) ;\r\n",
      "\tdouble y(y) ;\r\n",
      "\t\ty:units = \"degrees\" ;\r\n",
      "\t\ty:standard_name = \"grid_latitude\" ;\r\n",
      "\t\ty:bounds = \"y_bnds\" ;\r\n",
      "\tdouble x_bnds(x, bounds2) ;\r\n",
      "\tdouble x(x) ;\r\n",
      "\t\tx:units = \"degrees\" ;\r\n",
      "\t\tx:standard_name = \"grid_longitude\" ;\r\n",
      "\t\tx:bounds = \"x_bnds\" ;\r\n",
      "\tdouble time ;\r\n",
      "\t\ttime:units = \"days since 2018-12-01\" ;\r\n",
      "\t\ttime:standard_name = \"time\" ;\r\n",
      "\tdouble latitude(y, x) ;\r\n",
      "\t\tlatitude:units = \"degrees_N\" ;\r\n",
      "\t\tlatitude:standard_name = \"latitude\" ;\r\n",
      "\tdouble longitude(x, y) ;\r\n",
      "\t\tlongitude:units = \"degrees_E\" ;\r\n",
      "\t\tlongitude:standard_name = \"longitude\" ;\r\n",
      "\tstring auxiliary(y) ;\r\n",
      "\t\tauxiliary:long_name = \"Grid latitude name\" ;\r\n",
      "\tdouble a_bounds(atmosphere_hybrid_height_coordinate, bounds2) ;\r\n",
      "\tdouble a(atmosphere_hybrid_height_coordinate) ;\r\n",
      "\t\ta:units = \"m\" ;\r\n",
      "\tdouble b_bounds(atmosphere_hybrid_height_coordinate, bounds2) ;\r\n",
      "\tdouble b(atmosphere_hybrid_height_coordinate) ;\r\n",
      "\tfloat surface_altitude(y, x) ;\r\n",
      "\t\tsurface_altitude:units = \"m\" ;\r\n",
      "\t\tsurface_altitude:standard_name = \"surface_altitude\" ;\r\n",
      "\tdouble cell_measure(x, y) ;\r\n",
      "\t\tcell_measure:units = \"km2\" ;\r\n",
      "\tchar rotated_latitude_longitude ;\r\n",
      "\t\trotated_latitude_longitude:earth_radius = 6371007LL ;\r\n",
      "\t\trotated_latitude_longitude:grid_north_pole_latitude = 38. ;\r\n",
      "\t\trotated_latitude_longitude:grid_north_pole_longitude = 190. ;\r\n",
      "\t\trotated_latitude_longitude:grid_mapping_name = \"rotated_latitude_longitude\" ;\r\n",
      "\tdouble air_temperature_standard_error(y, x) ;\r\n",
      "\t\tair_temperature_standard_error:units = \"K\" ;\r\n",
      "\t\tair_temperature_standard_error:standard_name = \"air_temperature standard_error\" ;\r\n",
      "\tdouble ta(atmosphere_hybrid_height_coordinate, y, x) ;\r\n",
      "\t\tta:project = \"research\" ;\r\n",
      "\t\tta:standard_name = \"air_temperature\" ;\r\n",
      "\t\tta:units = \"K\" ;\r\n",
      "\t\tta:cell_measures = \"area: cell_measure\" ;\r\n",
      "\t\tta:coordinates = \"time latitude longitude auxiliary\" ;\r\n",
      "\t\tta:grid_mapping = \"rotated_latitude_longitude\" ;\r\n",
      "\t\tta:ancillary_variables = \"air_temperature_standard_error\" ;\r\n",
      "\t\tta:cell_methods = \"y: x: mean where land (interval: 0.1 degrees) time: maximum\" ;\r\n",
      "\r\n",
      "// global attributes:\r\n",
      "\t\t:Conventions = \"CF-1.8\" ;\r\n",
      "}\r\n"
     ]
    }
   ],
   "source": [
    "!ncdump -h file1.nc"
   ]
  },
  {
   "cell_type": "code",
   "execution_count": 8,
   "metadata": {},
   "outputs": [],
   "source": [
    "g = cfdm.read('file1.nc')[0]"
   ]
  },
  {
   "cell_type": "code",
   "execution_count": 9,
   "metadata": {},
   "outputs": [
    {
     "name": "stdout",
     "output_type": "stream",
     "text": [
      "Field: air_temperature (ncvar%ta)\n",
      "---------------------------------\n",
      "Data            : air_temperature(atmosphere_hybrid_height_coordinate(1), grid_latitude(10), grid_longitude(9)) K\n",
      "Cell methods    : grid_latitude(10): grid_longitude(9): mean where land (interval: 0.1 degrees) time(1): maximum\n",
      "Field ancils    : air_temperature standard_error(grid_latitude(10), grid_longitude(9)) = [[0.76, ..., 0.32]] K\n",
      "Dimension coords: atmosphere_hybrid_height_coordinate(1) = [1.5]\n",
      "                : grid_latitude(10) = [2.2, ..., -1.76] degrees\n",
      "                : grid_longitude(9) = [-4.7, ..., -1.18] degrees\n",
      "                : time(1) = [2019-01-01 00:00:00]\n",
      "Auxiliary coords: latitude(grid_latitude(10), grid_longitude(9)) = [[53.941, ..., 50.225]] degrees_N\n",
      "                : longitude(grid_longitude(9), grid_latitude(10)) = [[2.004, ..., 8.156]] degrees_E\n",
      "                : long_name=Grid latitude name(grid_latitude(10)) = [--, ..., b'kappa']\n",
      "Cell measures   : measure:area(grid_longitude(9), grid_latitude(10)) = [[2391.9657, ..., 2392.6009]] km2\n",
      "Coord references: grid_mapping_name:rotated_latitude_longitude\n",
      "                : standard_name:atmosphere_hybrid_height_coordinate\n",
      "Domain ancils   : ncvar%a(atmosphere_hybrid_height_coordinate(1)) = [10.0] m\n",
      "                : ncvar%b(atmosphere_hybrid_height_coordinate(1)) = [20.0]\n",
      "                : surface_altitude(grid_latitude(10), grid_longitude(9)) = [[0.0, ..., 270.0]] m\n"
     ]
    }
   ],
   "source": [
    "print(g)"
   ]
  },
  {
   "cell_type": "code",
   "execution_count": 10,
   "metadata": {},
   "outputs": [
    {
     "name": "stdout",
     "output_type": "stream",
     "text": [
      "---------------------------------\n",
      "Field: air_temperature (ncvar%ta)\n",
      "---------------------------------\n",
      "Conventions = 'CF-1.8'\n",
      "project = 'research'\n",
      "standard_name = 'air_temperature'\n",
      "units = 'K'\n",
      "\n",
      "Data(atmosphere_hybrid_height_coordinate(1), grid_latitude(10), grid_longitude(9)) = [[[262.8, ..., 269.7]]] K\n",
      "\n",
      "Cell Method: grid_latitude(10): grid_longitude(9): mean where land (interval: 0.1 degrees)\n",
      "Cell Method: time(1): maximum\n",
      "\n",
      "Field Ancillary: air_temperature standard_error\n",
      "    standard_name = 'air_temperature standard_error'\n",
      "    units = 'K'\n",
      "    Data(grid_latitude(10), grid_longitude(9)) = [[0.76, ..., 0.32]] K\n",
      "\n",
      "Domain Axis: atmosphere_hybrid_height_coordinate(1)\n",
      "Domain Axis: grid_latitude(10)\n",
      "Domain Axis: grid_longitude(9)\n",
      "Domain Axis: time(1)\n",
      "\n",
      "Dimension coordinate: atmosphere_hybrid_height_coordinate\n",
      "    computed_standard_name = 'altitude'\n",
      "    standard_name = 'atmosphere_hybrid_height_coordinate'\n",
      "    Data(atmosphere_hybrid_height_coordinate(1)) = [1.5]\n",
      "    Bounds:Data(atmosphere_hybrid_height_coordinate(1), 2) = [[1.0, 2.0]]\n",
      "\n",
      "Dimension coordinate: grid_latitude\n",
      "    standard_name = 'grid_latitude'\n",
      "    units = 'degrees'\n",
      "    Data(grid_latitude(10)) = [2.2, ..., -1.76] degrees\n",
      "    Bounds:Data(grid_latitude(10), 2) = [[2.42, ..., -1.98]] degrees\n",
      "\n",
      "Dimension coordinate: grid_longitude\n",
      "    standard_name = 'grid_longitude'\n",
      "    units = 'degrees'\n",
      "    Data(grid_longitude(9)) = [-4.7, ..., -1.18] degrees\n",
      "    Bounds:Data(grid_longitude(9), 2) = [[-4.92, ..., -0.96]] degrees\n",
      "\n",
      "Dimension coordinate: time\n",
      "    standard_name = 'time'\n",
      "    units = 'days since 2018-12-01'\n",
      "    Data(time(1)) = [2019-01-01 00:00:00]\n",
      "\n",
      "Auxiliary coordinate: latitude\n",
      "    standard_name = 'latitude'\n",
      "    units = 'degrees_N'\n",
      "    Data(grid_latitude(10), grid_longitude(9)) = [[53.941, ..., 50.225]] degrees_N\n",
      "\n",
      "Auxiliary coordinate: longitude\n",
      "    standard_name = 'longitude'\n",
      "    units = 'degrees_E'\n",
      "    Data(grid_longitude(9), grid_latitude(10)) = [[2.004, ..., 8.156]] degrees_E\n",
      "\n",
      "Auxiliary coordinate: long_name=Grid latitude name\n",
      "    long_name = 'Grid latitude name'\n",
      "    Data(grid_latitude(10)) = [--, ..., b'kappa']\n",
      "\n",
      "Domain ancillary: ncvar%a\n",
      "    units = 'm'\n",
      "    Data(atmosphere_hybrid_height_coordinate(1)) = [10.0] m\n",
      "    Bounds:Data(atmosphere_hybrid_height_coordinate(1), 2) = [[5.0, 15.0]] m\n",
      "\n",
      "Domain ancillary: ncvar%b\n",
      "    Data(atmosphere_hybrid_height_coordinate(1)) = [20.0]\n",
      "    Bounds:Data(atmosphere_hybrid_height_coordinate(1), 2) = [[14.0, 26.0]]\n",
      "\n",
      "Domain ancillary: surface_altitude\n",
      "    standard_name = 'surface_altitude'\n",
      "    units = 'm'\n",
      "    Data(grid_latitude(10), grid_longitude(9)) = [[0.0, ..., 270.0]] m\n",
      "\n",
      "Coordinate reference: standard_name:atmosphere_hybrid_height_coordinate\n",
      "    Coordinate conversion:computed_standard_name = altitude\n",
      "    Coordinate conversion:standard_name = atmosphere_hybrid_height_coordinate\n",
      "    Coordinate conversion:a = Domain Ancillary: ncvar%a\n",
      "    Coordinate conversion:b = Domain Ancillary: ncvar%b\n",
      "    Coordinate conversion:orog = Domain Ancillary: surface_altitude\n",
      "    Datum:earth_radius = 6371007\n",
      "    Dimension Coordinate: atmosphere_hybrid_height_coordinate\n",
      "\n",
      "Coordinate reference: grid_mapping_name:rotated_latitude_longitude\n",
      "    Coordinate conversion:grid_mapping_name = rotated_latitude_longitude\n",
      "    Coordinate conversion:grid_north_pole_latitude = 38.0\n",
      "    Coordinate conversion:grid_north_pole_longitude = 190.0\n",
      "    Datum:earth_radius = 6371007\n",
      "    Dimension Coordinate: grid_longitude\n",
      "    Dimension Coordinate: grid_latitude\n",
      "    Auxiliary Coordinate: longitude\n",
      "    Auxiliary Coordinate: latitude\n",
      "\n",
      "Cell measure: measure:area\n",
      "    units = 'km2'\n",
      "    Data(grid_longitude(9), grid_latitude(10)) = [[2391.9657, ..., 2392.6009]] km2\n",
      "\n"
     ]
    }
   ],
   "source": [
    "g.dump()"
   ]
  },
  {
   "cell_type": "markdown",
   "metadata": {},
   "source": [
    "-----\n",
    "# Discrete sampling geometries\n",
    "\n",
    "### Always represented by the CF data model as orthogonal mutlidimensional arrays, but may be read from and written to datasets as indexed and/or contiguous aarrays\n",
    "\n",
    "### https://ncas-cms.github.io/cfdm/tutorial.html#discrete-sampling-geometries"
   ]
  },
  {
   "cell_type": "code",
   "execution_count": 11,
   "metadata": {},
   "outputs": [
    {
     "name": "stdout",
     "output_type": "stream",
     "text": [
      "netcdf dsg {\r\n",
      "dimensions:\r\n",
      "\tstation = 4 ;\r\n",
      "\telement = 24 ;\r\n",
      "\tbounds2 = 2 ;\r\n",
      "variables:\r\n",
      "\tint64 count(station) ;\r\n",
      "\t\tcount:sample_dimension = \"element\" ;\r\n",
      "\tdouble time_bounds(element, bounds2) ;\r\n",
      "\tdouble time(element) ;\r\n",
      "\t\ttime:standard_name = \"time\" ;\r\n",
      "\t\ttime:long_name = \"time of measurement\" ;\r\n",
      "\t\ttime:units = \"days since 1970-01-01 00:00:00\" ;\r\n",
      "\t\ttime:bounds = \"time_bounds\" ;\r\n",
      "\tdouble lat(station) ;\r\n",
      "\t\tlat:standard_name = \"latitude\" ;\r\n",
      "\t\tlat:long_name = \"station latitude\" ;\r\n",
      "\t\tlat:units = \"degrees_north\" ;\r\n",
      "\tdouble lon(station) ;\r\n",
      "\t\tlon:standard_name = \"longitude\" ;\r\n",
      "\t\tlon:long_name = \"station longitude\" ;\r\n",
      "\t\tlon:units = \"degrees_east\" ;\r\n",
      "\tdouble alt(station) ;\r\n",
      "\t\talt:long_name = \"vertical distance above the surface\" ;\r\n",
      "\t\talt:standard_name = \"height\" ;\r\n",
      "\t\talt:units = \"m\" ;\r\n",
      "\t\talt:positive = \"up\" ;\r\n",
      "\t\talt:axis = \"Z\" ;\r\n",
      "\tstring station_name(station) ;\r\n",
      "\t\tstation_name:long_name = \"station name\" ;\r\n",
      "\t\tstation_name:cf_role = \"timeseries_id\" ;\r\n",
      "\tint station_info(station) ;\r\n",
      "\t\tstation_info:long_name = \"station information\" ;\r\n",
      "\tdouble p(element) ;\r\n",
      "\t\tp:_FillValue = -999.9 ;\r\n",
      "\t\tp:standard_name = \"precipitation_flux\" ;\r\n",
      "\t\tp:units = \"kg m-2 day-1\" ;\r\n",
      "\t\tp:coordinates = \"time lat lon alt station_name station_info\" ;\r\n",
      "\r\n",
      "// global attributes:\r\n",
      "\t\t:Conventions = \"CF-1.8\" ;\r\n",
      "\t\t:featureType = \"timeSeries\" ;\r\n",
      "}\r\n"
     ]
    }
   ],
   "source": [
    "!ncdump -h dsg.nc"
   ]
  },
  {
   "cell_type": "code",
   "execution_count": 12,
   "metadata": {},
   "outputs": [],
   "source": [
    "h = cfdm.read('dsg.nc')[0]"
   ]
  },
  {
   "cell_type": "code",
   "execution_count": 13,
   "metadata": {},
   "outputs": [
    {
     "name": "stdout",
     "output_type": "stream",
     "text": [
      "Field: precipitation_flux (ncvar%p)\n",
      "-----------------------------------\n",
      "Data            : precipitation_flux(cf_role=timeseries_id(4), ncdim%timeseries(9)) kg m-2 day-1\n",
      "Auxiliary coords: time(cf_role=timeseries_id(4), ncdim%timeseries(9)) = [[1969-12-29 00:00:00, ..., 1970-01-07 00:00:00]]\n",
      "                : latitude(cf_role=timeseries_id(4)) = [-9.0, ..., 78.0] degrees_north\n",
      "                : longitude(cf_role=timeseries_id(4)) = [-23.0, ..., 178.0] degrees_east\n",
      "                : height(cf_role=timeseries_id(4)) = [0.5, ..., 345.0] m\n",
      "                : cf_role=timeseries_id(cf_role=timeseries_id(4)) = [b'station1', ..., b'station4']\n",
      "                : long_name=station information(cf_role=timeseries_id(4)) = [-10, ..., -7]\n"
     ]
    }
   ],
   "source": [
    "print(h)"
   ]
  },
  {
   "cell_type": "code",
   "execution_count": 14,
   "metadata": {},
   "outputs": [
    {
     "name": "stdout",
     "output_type": "stream",
     "text": [
      "[[3.98 0.0 0.0 -- -- -- -- -- --]\n",
      " [0.0 0.0 0.0 3.4 0.0 0.0 4.61 -- --]\n",
      " [0.86 0.8 0.75 0.0 4.56 -- -- -- --]\n",
      " [0.0 0.09 0.0 0.91 2.96 1.14 3.86 0.0 0.0]]\n"
     ]
    }
   ],
   "source": [
    "print(h.data.array)"
   ]
  },
  {
   "cell_type": "markdown",
   "metadata": {},
   "source": [
    "### Write the field construct to a netCDF file "
   ]
  },
  {
   "cell_type": "code",
   "execution_count": 15,
   "metadata": {},
   "outputs": [],
   "source": [
    "cfdm.write(h, 'dsg_new.nc')"
   ]
  },
  {
   "cell_type": "code",
   "execution_count": 16,
   "metadata": {},
   "outputs": [
    {
     "name": "stdout",
     "output_type": "stream",
     "text": [
      "netcdf dsg_new {\r\n",
      "dimensions:\r\n",
      "\tstation = 4 ;\r\n",
      "\telement = 24 ;\r\n",
      "\tbounds2 = 2 ;\r\n",
      "variables:\r\n",
      "\tint64 count(station) ;\r\n",
      "\t\tcount:sample_dimension = \"element\" ;\r\n",
      "\tdouble time_bounds(element, bounds2) ;\r\n",
      "\tdouble time(element) ;\r\n",
      "\t\ttime:standard_name = \"time\" ;\r\n",
      "\t\ttime:long_name = \"time of measurement\" ;\r\n",
      "\t\ttime:units = \"days since 1970-01-01 00:00:00\" ;\r\n",
      "\t\ttime:bounds = \"time_bounds\" ;\r\n",
      "\tdouble lat(station) ;\r\n",
      "\t\tlat:standard_name = \"latitude\" ;\r\n",
      "\t\tlat:long_name = \"station latitude\" ;\r\n",
      "\t\tlat:units = \"degrees_north\" ;\r\n",
      "\tdouble lon(station) ;\r\n",
      "\t\tlon:standard_name = \"longitude\" ;\r\n",
      "\t\tlon:long_name = \"station longitude\" ;\r\n",
      "\t\tlon:units = \"degrees_east\" ;\r\n",
      "\tdouble alt(station) ;\r\n",
      "\t\talt:long_name = \"vertical distance above the surface\" ;\r\n",
      "\t\talt:standard_name = \"height\" ;\r\n",
      "\t\talt:units = \"m\" ;\r\n",
      "\t\talt:positive = \"up\" ;\r\n",
      "\t\talt:axis = \"Z\" ;\r\n",
      "\tstring station_name(station) ;\r\n",
      "\t\tstation_name:long_name = \"station name\" ;\r\n",
      "\t\tstation_name:cf_role = \"timeseries_id\" ;\r\n",
      "\tint station_info(station) ;\r\n",
      "\t\tstation_info:long_name = \"station information\" ;\r\n",
      "\tdouble p(element) ;\r\n",
      "\t\tp:_FillValue = -999.9 ;\r\n",
      "\t\tp:standard_name = \"precipitation_flux\" ;\r\n",
      "\t\tp:units = \"kg m-2 day-1\" ;\r\n",
      "\t\tp:coordinates = \"time lat lon alt station_name station_info\" ;\r\n",
      "\r\n",
      "// global attributes:\r\n",
      "\t\t:Conventions = \"CF-1.8\" ;\r\n",
      "\t\t:featureType = \"timeSeries\" ;\r\n",
      "}\r\n"
     ]
    }
   ],
   "source": [
    "!ncdump -h dsg_new.nc"
   ]
  },
  {
   "cell_type": "code",
   "execution_count": 17,
   "metadata": {},
   "outputs": [
    {
     "name": "stdout",
     "output_type": "stream",
     "text": [
      "netcdf dsg_new_indexed {\r\n",
      "dimensions:\r\n",
      "\tstation = 4 ;\r\n",
      "\tsample = 24 ;\r\n",
      "\tbounds2 = 2 ;\r\n",
      "variables:\r\n",
      "\tint64 index(sample) ;\r\n",
      "\t\tindex:instance_dimension = \"station\" ;\r\n",
      "\tdouble time_bounds(sample, bounds2) ;\r\n",
      "\tdouble time(sample) ;\r\n",
      "\t\ttime:standard_name = \"time\" ;\r\n",
      "\t\ttime:long_name = \"time of measurement\" ;\r\n",
      "\t\ttime:units = \"days since 1970-01-01 00:00:00\" ;\r\n",
      "\t\ttime:bounds = \"time_bounds\" ;\r\n",
      "\tdouble lat(station) ;\r\n",
      "\t\tlat:standard_name = \"latitude\" ;\r\n",
      "\t\tlat:long_name = \"station latitude\" ;\r\n",
      "\t\tlat:units = \"degrees_north\" ;\r\n",
      "\tdouble lon(station) ;\r\n",
      "\t\tlon:standard_name = \"longitude\" ;\r\n",
      "\t\tlon:long_name = \"station longitude\" ;\r\n",
      "\t\tlon:units = \"degrees_east\" ;\r\n",
      "\tdouble alt(station) ;\r\n",
      "\t\talt:long_name = \"vertical distance above the surface\" ;\r\n",
      "\t\talt:standard_name = \"height\" ;\r\n",
      "\t\talt:units = \"m\" ;\r\n",
      "\t\talt:positive = \"up\" ;\r\n",
      "\t\talt:axis = \"Z\" ;\r\n",
      "\tstring station_name(station) ;\r\n",
      "\t\tstation_name:long_name = \"station name\" ;\r\n",
      "\t\tstation_name:cf_role = \"timeseries_id\" ;\r\n",
      "\tint station_info(station) ;\r\n",
      "\t\tstation_info:long_name = \"station information\" ;\r\n",
      "\tdouble p(sample) ;\r\n",
      "\t\tp:_FillValue = -999.9 ;\r\n",
      "\t\tp:standard_name = \"precipitation_flux\" ;\r\n",
      "\t\tp:units = \"kg m-2 day-1\" ;\r\n",
      "\t\tp:coordinates = \"time lat lon alt station_name station_info\" ;\r\n",
      "\r\n",
      "// global attributes:\r\n",
      "\t\t:Conventions = \"CF-1.8\" ;\r\n",
      "\t\t:featureType = \"timeSeries\" ;\r\n",
      "}\r\n"
     ]
    }
   ],
   "source": [
    "h = h.compress('indexed')\n",
    "cfdm.write(h, 'dsg_new_indexed.nc')\n",
    "!ncdump -h dsg_new_indexed.nc"
   ]
  },
  {
   "cell_type": "code",
   "execution_count": 18,
   "metadata": {},
   "outputs": [
    {
     "name": "stdout",
     "output_type": "stream",
     "text": [
      "netcdf dsg_new_multidimensionsal {\r\n",
      "dimensions:\r\n",
      "\tstation = 4 ;\r\n",
      "\ttimeseries = 9 ;\r\n",
      "\tbounds2 = 2 ;\r\n",
      "variables:\r\n",
      "\tdouble time_bounds(station, timeseries, bounds2) ;\r\n",
      "\tdouble time(station, timeseries) ;\r\n",
      "\t\ttime:standard_name = \"time\" ;\r\n",
      "\t\ttime:long_name = \"time of measurement\" ;\r\n",
      "\t\ttime:units = \"days since 1970-01-01 00:00:00\" ;\r\n",
      "\t\ttime:bounds = \"time_bounds\" ;\r\n",
      "\tdouble lat(station) ;\r\n",
      "\t\tlat:standard_name = \"latitude\" ;\r\n",
      "\t\tlat:long_name = \"station latitude\" ;\r\n",
      "\t\tlat:units = \"degrees_north\" ;\r\n",
      "\tdouble lon(station) ;\r\n",
      "\t\tlon:standard_name = \"longitude\" ;\r\n",
      "\t\tlon:long_name = \"station longitude\" ;\r\n",
      "\t\tlon:units = \"degrees_east\" ;\r\n",
      "\tdouble alt(station) ;\r\n",
      "\t\talt:long_name = \"vertical distance above the surface\" ;\r\n",
      "\t\talt:standard_name = \"height\" ;\r\n",
      "\t\talt:units = \"m\" ;\r\n",
      "\t\talt:positive = \"up\" ;\r\n",
      "\t\talt:axis = \"Z\" ;\r\n",
      "\tstring station_name(station) ;\r\n",
      "\t\tstation_name:long_name = \"station name\" ;\r\n",
      "\t\tstation_name:cf_role = \"timeseries_id\" ;\r\n",
      "\tint station_info(station) ;\r\n",
      "\t\tstation_info:long_name = \"station information\" ;\r\n",
      "\tdouble p(station, timeseries) ;\r\n",
      "\t\tp:_FillValue = -999.9 ;\r\n",
      "\t\tp:standard_name = \"precipitation_flux\" ;\r\n",
      "\t\tp:units = \"kg m-2 day-1\" ;\r\n",
      "\t\tp:coordinates = \"time lat lon alt station_name station_info\" ;\r\n",
      "\r\n",
      "// global attributes:\r\n",
      "\t\t:Conventions = \"CF-1.8\" ;\r\n",
      "\t\t:featureType = \"timeSeries\" ;\r\n",
      "}\r\n"
     ]
    }
   ],
   "source": [
    "h = h.uncompress()\n",
    "cfdm.write(h, 'dsg_new_multidimensionsal.nc')\n",
    "!ncdump -h dsg_new_multidimensionsal.nc"
   ]
  },
  {
   "cell_type": "markdown",
   "metadata": {},
   "source": [
    "-----\n",
    "# Simple geometry cell bounds (since CF-1.8)\n",
    "\n",
    "### Represented by the CF data model as bounds arrays with one or *two* trailing dimensions, but are read from and written to datasets using the CF-netCDF compression\n",
    "\n",
    "### https://ncas-cms.github.io/cfdm/tutorial.html#geometry-cells"
   ]
  },
  {
   "cell_type": "code",
   "execution_count": 19,
   "metadata": {},
   "outputs": [
    {
     "name": "stdout",
     "output_type": "stream",
     "text": [
      "netcdf geometry {\r\n",
      "dimensions:\r\n",
      "\tinstance = 2 ;\r\n",
      "\ttime = 4 ;\r\n",
      "\tbounds2 = 2 ;\r\n",
      "\tnode = 13 ;\r\n",
      "\tpart = 4 ;\r\n",
      "variables:\r\n",
      "\tdouble time_bounds(time, bounds2) ;\r\n",
      "\t\ttime_bounds:calendar = \"gregorian\" ;\r\n",
      "\tdouble time(time) ;\r\n",
      "\t\ttime:standard_name = \"time\" ;\r\n",
      "\t\ttime:units = \"days since 2000-01-01\" ;\r\n",
      "\t\ttime:bounds = \"time_bounds\" ;\r\n",
      "\tdouble y(node) ;\r\n",
      "\t\ty:units = \"degrees_north\" ;\r\n",
      "\t\ty:standard_name = \"latitude\" ;\r\n",
      "\t\ty:axis = \"Y\" ;\r\n",
      "\tint64 node_count(instance) ;\r\n",
      "\tint64 part_node_count(part) ;\r\n",
      "\tint interior_ring(part) ;\r\n",
      "\tdouble lat(instance) ;\r\n",
      "\t\tlat:units = \"degrees_north\" ;\r\n",
      "\t\tlat:standard_name = \"latitude\" ;\r\n",
      "\t\tlat:nodes = \"y\" ;\r\n",
      "\tdouble x(node) ;\r\n",
      "\t\tx:units = \"degrees_east\" ;\r\n",
      "\t\tx:standard_name = \"longitude\" ;\r\n",
      "\t\tx:axis = \"X\" ;\r\n",
      "\tdouble lon(instance) ;\r\n",
      "\t\tlon:units = \"degrees_east\" ;\r\n",
      "\t\tlon:standard_name = \"longitude\" ;\r\n",
      "\t\tlon:nodes = \"x\" ;\r\n",
      "\tstring instance_id(instance) ;\r\n",
      "\t\tinstance_id:cf_role = \"timeseries_id\" ;\r\n",
      "\tdouble z(node) ;\r\n",
      "\t\tz:units = \"m\" ;\r\n",
      "\t\tz:standard_name = \"altitude\" ;\r\n",
      "\t\tz:axis = \"Z\" ;\r\n",
      "\tchar datum ;\r\n",
      "\t\tdatum:semi_major_axis = 6378137. ;\r\n",
      "\t\tdatum:inverse_flattening = 298.257223563 ;\r\n",
      "\t\tdatum:longitude_of_prime_meridian = 0. ;\r\n",
      "\t\tdatum:grid_mapping_name = \"latitude_longitude\" ;\r\n",
      "\tchar geometry_container ;\r\n",
      "\t\tgeometry_container:geometry_type = \"polygon\" ;\r\n",
      "\t\tgeometry_container:geometry_dimension = \"instance\" ;\r\n",
      "\t\tgeometry_container:node_coordinates = \"x y z\" ;\r\n",
      "\t\tgeometry_container:coordinates = \"lat lon\" ;\r\n",
      "\t\tgeometry_container:grid_mapping = \"datum\" ;\r\n",
      "\t\tgeometry_container:node_count = \"node_count\" ;\r\n",
      "\t\tgeometry_container:part_node_count = \"part_node_count\" ;\r\n",
      "\t\tgeometry_container:interior_ring = \"interior_ring\" ;\r\n",
      "\tdouble pr(instance, time) ;\r\n",
      "\t\tpr:standard_name = \"precipitation_amount\" ;\r\n",
      "\t\tpr:standard_units = \"kg m-2\" ;\r\n",
      "\t\tpr:coordinates = \"lat lon instance_id\" ;\r\n",
      "\t\tpr:grid_mapping = \"datum\" ;\r\n",
      "\t\tpr:geometry = \"geometry_container\" ;\r\n",
      "\r\n",
      "// global attributes:\r\n",
      "\t\t:Conventions = \"CF-1.8\" ;\r\n",
      "\t\t:featureType = \"timeSeries\" ;\r\n",
      "}\r\n"
     ]
    }
   ],
   "source": [
    "!ncdump -h geometry.nc"
   ]
  },
  {
   "cell_type": "code",
   "execution_count": 20,
   "metadata": {},
   "outputs": [],
   "source": [
    "i = cfdm.read('geometry.nc')[0]"
   ]
  },
  {
   "cell_type": "code",
   "execution_count": 21,
   "metadata": {},
   "outputs": [
    {
     "name": "stdout",
     "output_type": "stream",
     "text": [
      "--------------------------------------\n",
      "Field: precipitation_amount (ncvar%pr)\n",
      "--------------------------------------\n",
      "Conventions = 'CF-1.8'\n",
      "featureType = 'timeSeries'\n",
      "standard_name = 'precipitation_amount'\n",
      "standard_units = 'kg m-2'\n",
      "\n",
      "Data(cf_role=timeseries_id(2), time(4)) = [[1.0, ..., 8.0]]\n",
      "\n",
      "Domain Axis: cf_role=timeseries_id(2)\n",
      "Domain Axis: time(4)\n",
      "\n",
      "Dimension coordinate: time\n",
      "    standard_name = 'time'\n",
      "    units = 'days since 2000-01-01'\n",
      "    Data(time(4)) = [2000-01-16 12:00:00, ..., 2000-04-15 00:00:00]\n",
      "    Bounds:calendar = 'gregorian'\n",
      "    Bounds:Data(time(4), 2) = [[2000-01-01 00:00:00, ..., 2000-05-01 00:00:00]] gregorian\n",
      "\n",
      "Auxiliary coordinate: latitude\n",
      "    standard_name = 'latitude'\n",
      "    units = 'degrees_north'\n",
      "    Data(cf_role=timeseries_id(2)) = [25.0, 7.0] degrees_north\n",
      "    Geometry: polygon\n",
      "    Bounds:axis = 'Y'\n",
      "    Bounds:standard_name = 'latitude'\n",
      "    Bounds:units = 'degrees_north'\n",
      "    Bounds:Data(cf_role=timeseries_id(2), 3, 4) = [[[0.0, ..., --]]] degrees_north\n",
      "    Interior Ring:Data(cf_role=timeseries_id(2), 3) = [[0, ..., --]]\n",
      "\n",
      "Auxiliary coordinate: longitude\n",
      "    standard_name = 'longitude'\n",
      "    units = 'degrees_east'\n",
      "    Data(cf_role=timeseries_id(2)) = [10.0, 40.0] degrees_east\n",
      "    Geometry: polygon\n",
      "    Bounds:axis = 'X'\n",
      "    Bounds:standard_name = 'longitude'\n",
      "    Bounds:units = 'degrees_east'\n",
      "    Bounds:Data(cf_role=timeseries_id(2), 3, 4) = [[[20.0, ..., --]]] degrees_east\n",
      "    Interior Ring:Data(cf_role=timeseries_id(2), 3) = [[0, ..., --]]\n",
      "\n",
      "Auxiliary coordinate: cf_role=timeseries_id\n",
      "    cf_role = 'timeseries_id'\n",
      "    Data(cf_role=timeseries_id(2)) = [b'x1', b'y2']\n",
      "\n",
      "Auxiliary coordinate: altitude\n",
      "    Geometry: polygon\n",
      "    Bounds:axis = 'Z'\n",
      "    Bounds:standard_name = 'altitude'\n",
      "    Bounds:units = 'm'\n",
      "    Bounds:Data(cf_role=timeseries_id(2), 3, 4) = [[[1.0, ..., --]]] m\n",
      "    Interior Ring:Data(cf_role=timeseries_id(2), 3) = [[0, ..., --]]\n",
      "\n",
      "Coordinate reference: grid_mapping_name:latitude_longitude\n",
      "    Coordinate conversion:grid_mapping_name = latitude_longitude\n",
      "    Datum:inverse_flattening = 298.257223563\n",
      "    Datum:longitude_of_prime_meridian = 0.0\n",
      "    Datum:semi_major_axis = 6378137.0\n",
      "    Auxiliary Coordinate: longitude\n",
      "    Auxiliary Coordinate: latitude\n",
      "\n"
     ]
    }
   ],
   "source": [
    "i.dump()"
   ]
  },
  {
   "cell_type": "code",
   "execution_count": 22,
   "metadata": {},
   "outputs": [],
   "source": [
    "y = i.construct('latitude')"
   ]
  },
  {
   "cell_type": "code",
   "execution_count": 23,
   "metadata": {},
   "outputs": [
    {
     "data": {
      "text/plain": [
       "<AuxiliaryCoordinate: latitude(2) degrees_north>"
      ]
     },
     "execution_count": 23,
     "metadata": {},
     "output_type": "execute_result"
    }
   ],
   "source": [
    "y"
   ]
  },
  {
   "cell_type": "code",
   "execution_count": 24,
   "metadata": {},
   "outputs": [
    {
     "data": {
      "text/plain": [
       "<Bounds: latitude(2, 3, 4) degrees_north>"
      ]
     },
     "execution_count": 24,
     "metadata": {},
     "output_type": "execute_result"
    }
   ],
   "source": [
    "y.bounds"
   ]
  },
  {
   "cell_type": "code",
   "execution_count": 25,
   "metadata": {},
   "outputs": [
    {
     "name": "stdout",
     "output_type": "stream",
     "text": [
      "[[[0.0 15.0 0.0 --]\n",
      "  [5.0 10.0 5.0 5.0]\n",
      "  [20.0 35.0 20.0 --]]\n",
      "\n",
      " [[0.0 15.0 0.0 --]\n",
      "  [-- -- -- --]\n",
      "  [-- -- -- --]]]\n"
     ]
    }
   ],
   "source": [
    "print(y.bounds.data.array)"
   ]
  },
  {
   "cell_type": "code",
   "execution_count": 26,
   "metadata": {},
   "outputs": [],
   "source": [
    "cfdm.write(i, 'geometry_new.nc')"
   ]
  },
  {
   "cell_type": "code",
   "execution_count": 27,
   "metadata": {},
   "outputs": [
    {
     "name": "stdout",
     "output_type": "stream",
     "text": [
      "netcdf geometry_new {\r\n",
      "dimensions:\r\n",
      "\tinstance = 2 ;\r\n",
      "\ttime = 4 ;\r\n",
      "\tbounds2 = 2 ;\r\n",
      "\tnode = 13 ;\r\n",
      "\tpart = 4 ;\r\n",
      "variables:\r\n",
      "\tdouble time_bounds(time, bounds2) ;\r\n",
      "\t\ttime_bounds:calendar = \"gregorian\" ;\r\n",
      "\tdouble time(time) ;\r\n",
      "\t\ttime:standard_name = \"time\" ;\r\n",
      "\t\ttime:units = \"days since 2000-01-01\" ;\r\n",
      "\t\ttime:bounds = \"time_bounds\" ;\r\n",
      "\tdouble y(node) ;\r\n",
      "\t\ty:units = \"degrees_north\" ;\r\n",
      "\t\ty:standard_name = \"latitude\" ;\r\n",
      "\t\ty:axis = \"Y\" ;\r\n",
      "\tint64 node_count(instance) ;\r\n",
      "\tint64 part_node_count(part) ;\r\n",
      "\tint interior_ring(part) ;\r\n",
      "\tdouble lat(instance) ;\r\n",
      "\t\tlat:units = \"degrees_north\" ;\r\n",
      "\t\tlat:standard_name = \"latitude\" ;\r\n",
      "\t\tlat:nodes = \"y\" ;\r\n",
      "\tdouble x(node) ;\r\n",
      "\t\tx:units = \"degrees_east\" ;\r\n",
      "\t\tx:standard_name = \"longitude\" ;\r\n",
      "\t\tx:axis = \"X\" ;\r\n",
      "\tdouble lon(instance) ;\r\n",
      "\t\tlon:units = \"degrees_east\" ;\r\n",
      "\t\tlon:standard_name = \"longitude\" ;\r\n",
      "\t\tlon:nodes = \"x\" ;\r\n",
      "\tstring instance_id(instance) ;\r\n",
      "\t\tinstance_id:cf_role = \"timeseries_id\" ;\r\n",
      "\tdouble z(node) ;\r\n",
      "\t\tz:units = \"m\" ;\r\n",
      "\t\tz:standard_name = \"altitude\" ;\r\n",
      "\t\tz:axis = \"Z\" ;\r\n",
      "\tchar datum ;\r\n",
      "\t\tdatum:semi_major_axis = 6378137. ;\r\n",
      "\t\tdatum:inverse_flattening = 298.257223563 ;\r\n",
      "\t\tdatum:longitude_of_prime_meridian = 0. ;\r\n",
      "\t\tdatum:grid_mapping_name = \"latitude_longitude\" ;\r\n",
      "\tchar geometry_container ;\r\n",
      "\t\tgeometry_container:geometry_type = \"polygon\" ;\r\n",
      "\t\tgeometry_container:geometry_dimension = \"instance\" ;\r\n",
      "\t\tgeometry_container:node_coordinates = \"x y z\" ;\r\n",
      "\t\tgeometry_container:coordinates = \"lat lon\" ;\r\n",
      "\t\tgeometry_container:grid_mapping = \"datum\" ;\r\n",
      "\t\tgeometry_container:node_count = \"node_count\" ;\r\n",
      "\t\tgeometry_container:part_node_count = \"part_node_count\" ;\r\n",
      "\t\tgeometry_container:interior_ring = \"interior_ring\" ;\r\n",
      "\tdouble pr(instance, time) ;\r\n",
      "\t\tpr:standard_name = \"precipitation_amount\" ;\r\n",
      "\t\tpr:standard_units = \"kg m-2\" ;\r\n",
      "\t\tpr:coordinates = \"lat lon instance_id\" ;\r\n",
      "\t\tpr:grid_mapping = \"datum\" ;\r\n",
      "\t\tpr:geometry = \"geometry_container\" ;\r\n",
      "\r\n",
      "// global attributes:\r\n",
      "\t\t:Conventions = \"CF-1.8\" ;\r\n",
      "\t\t:featureType = \"timeSeries\" ;\r\n",
      "}\r\n"
     ]
    }
   ],
   "source": [
    "!ncdump -h geometry_new.nc"
   ]
  },
  {
   "cell_type": "markdown",
   "metadata": {},
   "source": [
    "-----\n",
    "### This representation and functionality is available to any library by *subclassing* `cfdm`\n",
    "\n",
    "\n",
    "### `cf-python` (https://ncas-cms.github.io/cf-python)  does this, adding *metadata-aware* functions for\n",
    "* ### subsetting\n",
    "* ### weights calculations\n",
    "* ### statistics\n",
    "* ### regridding\n",
    "* ### filtering\n",
    "* ### *etc.*\n",
    "-----"
   ]
  }
 ],
 "metadata": {
  "kernelspec": {
   "display_name": "Python 3",
   "language": "python",
   "name": "python3"
  },
  "language_info": {
   "codemirror_mode": {
    "name": "ipython",
    "version": 3
   },
   "file_extension": ".py",
   "mimetype": "text/x-python",
   "name": "python",
   "nbconvert_exporter": "python",
   "pygments_lexer": "ipython3",
   "version": "3.7.0"
  }
 },
 "nbformat": 4,
 "nbformat_minor": 2
}
